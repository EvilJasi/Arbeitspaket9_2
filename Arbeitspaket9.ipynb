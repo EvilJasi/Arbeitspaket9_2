{
 "cells": [
  {
   "cell_type": "code",
   "execution_count": 1,
   "id": "422cf182-4a01-4c38-93a2-e86df5276b34",
   "metadata": {
    "extensions": {
     "jupyter_dashboards": {
      "activeView": "grid_default",
      "views": {
       "grid_default": {
        "col": null,
        "height": 2,
        "hidden": true,
        "locked": true,
        "row": null,
        "width": 2
       }
      }
     }
    }
   },
   "outputs": [],
   "source": [
    "from __future__ import print_function\n",
    "from ipywidgets import interact, interactive, fixed, interact_manual\n",
    "import ipywidgets as widgets\n",
    "from ipywidgets import Box\n",
    "from IPython.core.display import HTML\n",
    "from IPython.display import IFrame\n",
    "\n",
    "import builtins"
   ]
  },
  {
   "cell_type": "code",
   "execution_count": 2,
   "id": "004d7f1b-6806-4907-b5fa-69bb09149556",
   "metadata": {},
   "outputs": [
    {
     "data": {
      "application/vnd.jupyter.widget-view+json": {
       "model_id": "97f6dddb1f2a41ffac8c80283b7936ad",
       "version_major": 2,
       "version_minor": 0
      },
      "text/plain": [
       "A Jupyter Widget"
      ]
     },
     "metadata": {},
     "output_type": "display_data"
    }
   ],
   "source": [
    "file = builtins.open(\"Bilder/Logo.png\", \"rb\")\n",
    "image = file.read()\n",
    "bild_Logo = widgets.Image(\n",
    "    value=image,\n",
    "    format='png',\n",
    "    width=200,\n",
    "   #height=128,\n",
    "    )\n",
    "bild_Logo"
   ]
  },
  {
   "cell_type": "markdown",
   "id": "4986f2ef-b95c-4f10-9582-6c2b163b5dad",
   "metadata": {
    "extensions": {
     "jupyter_dashboards": {
      "activeView": "grid_default",
      "views": {
       "grid_default": {
        "col": 4,
        "height": 3,
        "hidden": false,
        "locked": true,
        "row": 1,
        "width": 7
       }
      }
     }
    },
    "tags": []
   },
   "source": [
    "# <span style=\"font-family:Century Gothic;color:DarkCyan\">Arbeitspaket 9</span>"
   ]
  },
  {
   "cell_type": "markdown",
   "id": "5a637d9d-4eba-45dc-92cc-7a63c890aa98",
   "metadata": {
    "extensions": {
     "jupyter_dashboards": {
      "activeView": "grid_default",
      "views": {
       "grid_default": {
        "col": 0,
        "height": 8,
        "hidden": false,
        "locked": true,
        "row": 1,
        "width": 4
       }
      }
     }
    },
    "tags": []
   },
   "source": [
    "> **Willkommen zu Ihrem ersten digitalen Arbeitspaket. Bitte arbeiten Sie die Aufgaben nacheinander durch und folgen Sie den Arbeitsanweisungen. Nach jeder Aufgabe haben Sie die Möglichkeit, Ihre selbst erarbeitete Lösung zu verifizieren.**\n"
   ]
  },
  {
   "cell_type": "markdown",
   "id": "d8ed7e5e-b1bf-4bad-8d15-c78f77dd7f25",
   "metadata": {
    "extensions": {
     "jupyter_dashboards": {
      "activeView": "grid_default",
      "views": {
       "grid_default": {
        "col": null,
        "height": 2,
        "hidden": true,
        "locked": true,
        "row": null,
        "width": 2
       }
      }
     }
    }
   },
   "source": [
    "## <span style=\"font-family:Century Gothic;color:DarkCyan\">Aufgabe 1</span>"
   ]
  },
  {
   "cell_type": "markdown",
   "id": "894c7535-725a-4d50-9547-72a176773aaa",
   "metadata": {
    "extensions": {
     "jupyter_dashboards": {
      "activeView": "grid_default",
      "views": {
       "grid_default": {
        "col": null,
        "height": 2,
        "hidden": true,
        "locked": true,
        "row": null,
        "width": 2
       }
      }
     }
    },
    "tags": []
   },
   "source": [
    "Individuen ziehen einen bestimmten Nutzen $U$ aus einer bestimmten Menge an Einkommen $y$.\n",
    "Die Nutzenfunktion $ U(y)$ ermöglicht es den Individuen zu bestimmen, welches Einkommen welchen Nutzen erzielt.\n",
    "\n",
    "### <span style=\"font-family:Century Gothic;color:DarkCyan\">1.1 Die Nutzenfunktion</span>\n",
    "\n",
    "Nehmen Sie an, die Nutzenfunktion hat die Form\n",
    "\n",
    "$$ U(y) = a \\cdot y^{b} $$\n",
    "\n",
    "> **Nutzen Sie die beiden Slider um zu erkunden, wie sich die Form der Nutzenfunktion verändert, wenn sich die Parameter $a$ und $b$ ändern.**"
   ]
  },
  {
   "cell_type": "code",
   "execution_count": 3,
   "id": "462cf925-34ef-4a7d-9349-a1c107f47b08",
   "metadata": {
    "extensions": {
     "jupyter_dashboards": {
      "activeView": "grid_default",
      "views": {
       "grid_default": {
        "col": null,
        "height": 2,
        "hidden": true,
        "locked": true,
        "row": null,
        "width": 2
       }
      }
     }
    }
   },
   "outputs": [
    {
     "data": {
      "application/vnd.jupyter.widget-view+json": {
       "model_id": "78c05653901a430fbedc565c20749e3c",
       "version_major": 2,
       "version_minor": 0
      },
      "text/plain": [
       "A Jupyter Widget"
      ]
     },
     "metadata": {},
     "output_type": "display_data"
    }
   ],
   "source": [
    "%matplotlib inline\n",
    "from ipywidgets import interactive\n",
    "import matplotlib.pyplot as plt\n",
    "import numpy as np\n",
    "\n",
    "def f(a,b):\n",
    "    plt.figure(2)\n",
    "    x = np.linspace(0, 1000, num=1000)\n",
    "    plt.plot(x, a*x**(b))\n",
    "    plt.ylim(0, 100)\n",
    "    plt.xlabel(\"Einkommen\")\n",
    "    plt.ylabel(\"Nutzen\")\n",
    "    plt.show()\n",
    "    \n",
    "interactive_plot = interactive(f, a=(0, 10, 1), b=(0.1, 1, 0.1))\n",
    "output = interactive_plot.children[-1]\n",
    "interactive_plot"
   ]
  },
  {
   "cell_type": "markdown",
   "id": "5fe376a6-7555-4f01-ab78-1f181cd25fd5",
   "metadata": {
    "extensions": {
     "jupyter_dashboards": {
      "activeView": "grid_default",
      "views": {
       "grid_default": {
        "col": null,
        "height": 2,
        "hidden": true,
        "locked": true,
        "row": null,
        "width": 2
       }
      }
     }
    }
   },
   "source": [
    "***\n",
    "\n",
    "### <span style=\"font-family:Century Gothic;color:DarkCyan\">1.2 Nutzenmaximierung unter Unsicherheit</span>\n",
    "\n",
    "Oftmals ist dem Individuum nicht bekannt, welches Einkommen $y$ es am Markt erzielen wird. Betrachten wir den Fall von Bauer Bruno. Er hat die Nutzenfunktion\n",
    "\n",
    "$$ U(y) = y^{0.5} $$\n",
    "\n",
    "Bauer Bruno weiß, dass sein Einkommen bei schlechtem Wetter $ \\underline{y} = 100 \\, €$  betragen wird, wohingegen es bei gutem Wetter $ \\overline{y} = 1.000 \\, €$ betragen wird.\n",
    "\n",
    "> **Berechnen Sie den Nutzen von Bruno bei gutem und bei schlechtem Wetter. Nutzen Sie den Slider, um sich Brunos Nutzen abhängig von seinem Einkommen $y$ anzeigen zu lassen und somit Ihr Ergebnis zu verifizieren.**"
   ]
  },
  {
   "cell_type": "code",
   "execution_count": 4,
   "id": "af805c13-1b95-4eca-9069-a6aed6bdedff",
   "metadata": {
    "extensions": {
     "jupyter_dashboards": {
      "activeView": "grid_default",
      "views": {
       "grid_default": {
        "col": null,
        "height": 2,
        "hidden": true,
        "locked": true,
        "row": null,
        "width": 2
       }
      }
     }
    }
   },
   "outputs": [],
   "source": [
    "def f(y):\n",
    "    return y**0.5"
   ]
  },
  {
   "cell_type": "code",
   "execution_count": 5,
   "id": "386908c1-1788-4db6-abb9-7db29b06b4a4",
   "metadata": {
    "extensions": {
     "jupyter_dashboards": {
      "activeView": "grid_default",
      "views": {
       "grid_default": {
        "col": null,
        "height": 2,
        "hidden": true,
        "locked": true,
        "row": null,
        "width": 2
       }
      }
     }
    },
    "tags": []
   },
   "outputs": [
    {
     "data": {
      "application/vnd.jupyter.widget-view+json": {
       "model_id": "e4cea11fe13944cd9b6ce02e6c73ee3b",
       "version_major": 2,
       "version_minor": 0
      },
      "text/plain": [
       "A Jupyter Widget"
      ]
     },
     "metadata": {},
     "output_type": "display_data"
    },
    {
     "name": "stdout",
     "output_type": "stream",
     "text": [
      "Nutzen\n"
     ]
    }
   ],
   "source": [
    "interact(f, y=(100,1000,1));\n",
    "print('Nutzen')"
   ]
  },
  {
   "cell_type": "markdown",
   "id": "4782ba08-b898-4ca6-b1b1-590fb15d5947",
   "metadata": {
    "extensions": {
     "jupyter_dashboards": {
      "activeView": "grid_default",
      "views": {
       "grid_default": {
        "col": null,
        "height": 2,
        "hidden": true,
        "locked": true,
        "row": null,
        "width": 2
       }
      }
     }
    },
    "tags": []
   },
   "source": [
    "Bruno schaut den Wetterbericht und kennt somit die Wahrscheinlichkeit $p$ mit der gutes Wetter, d.h. kein Regen, auftreten wird. Mithilfe dieser Wahrscheinlichkeit kann er seinen Erwartungsnutzen berechnen.\n",
    "\n",
    "> **Berechnen Sie den Erwartungsnutzen $E[u(y)]$ und den Nutzen des durchschnittlich erwarteten Einkommens $u(E[y])$ für die unten beschriebenen Wetterverhältnisse. Wechseln Sie in die nebenstehenden Tabs, um sich den Lösungsweg anzeigen zu lassen und Ihr Ergebnis zu verifizieren.**"
   ]
  },
  {
   "cell_type": "code",
   "execution_count": 6,
   "id": "b4e68042-af24-45cb-9287-bd92096115b9",
   "metadata": {
    "extensions": {
     "jupyter_dashboards": {
      "activeView": "grid_default",
      "views": {
       "grid_default": {
        "col": null,
        "height": 2,
        "hidden": true,
        "locked": true,
        "row": null,
        "width": 2
       }
      }
     }
    }
   },
   "outputs": [
    {
     "data": {
      "application/vnd.jupyter.widget-view+json": {
       "model_id": "0bd8dd432c544c3abb7375a9eb6fa331",
       "version_major": 2,
       "version_minor": 0
      },
      "text/plain": [
       "A Jupyter Widget"
      ]
     },
     "metadata": {},
     "output_type": "display_data"
    }
   ],
   "source": [
    "text_Regen = widgets.Textarea(\n",
    "        value=\"Im Westen und auf der Nordsee steife Windböen, auf exponierten Bergen stürmisch. Das Regenrisiko beträgt 70%\",\n",
    "        placeholder='Some LaTeX',\n",
    "        disabled=False\n",
    "    )\n",
    "text_Regen\n",
    "\n",
    "lösung1_Regen = widgets.Label(\n",
    "        value=\"$ E[u(y)] = p \\cdot u(\\\\overline{y}) + (1-p) \\cdot u(\\\\underline{y}) = (0,3) \\cdot (1.000)^{0.5} + (1-0,3) \\cdot (100)^{0.5} = 16,49$\",\n",
    "        placeholder='Some LaTeX',\n",
    "        description='Some LaTeX',\n",
    "        disabled=False\n",
    "    )\n",
    "lösung1_Regen\n",
    "\n",
    "lösung2_Regen = widgets.Label(\n",
    "        value=\"$ u(E[y]) = u(p\\\\overline{y} + (1-p)\\\\underline{y}) = (0,3 \\cdot 1.000 + (1-0,3) \\cdot 100)^{0.5} = 19,24$\",\n",
    "        placeholder='Some LaTeX',\n",
    "        description='Some LaTeX',\n",
    "        disabled=False\n",
    "    )\n",
    "lösung2_Regen\n",
    "\n",
    "## Bilder einfügen\n",
    "file = builtins.open(\"Bilder/Regen.png\", \"rb\")\n",
    "image = file.read()\n",
    "bild_Regen = widgets.Image(\n",
    "    value=image,\n",
    "    format='png',\n",
    "    width=128,\n",
    "    height=128,\n",
    "    )\n",
    "bild_Regen\n",
    "\n",
    "items = [bild_Regen,text_Regen]\n",
    "box_Regen = Box(children=items)\n",
    "\n",
    "\n",
    "tab_nest = widgets.Tab()\n",
    "tab_nest.children = [box_Regen,lösung1_Regen,lösung2_Regen]\n",
    "tab_nest.set_title(0, 'Wetterbericht')\n",
    "tab_nest.set_title(1, 'Erwartungsnutzen')\n",
    "tab_nest.set_title(2, 'Nutzen Durchschnitt')\n",
    "tab_nest\n"
   ]
  },
  {
   "cell_type": "code",
   "execution_count": 7,
   "id": "a5265ac3-3bef-4d01-8e35-11feb21ce78b",
   "metadata": {
    "extensions": {
     "jupyter_dashboards": {
      "activeView": "grid_default",
      "views": {
       "grid_default": {
        "col": null,
        "height": 2,
        "hidden": true,
        "locked": true,
        "row": null,
        "width": 2
       }
      }
     }
    }
   },
   "outputs": [
    {
     "data": {
      "application/vnd.jupyter.widget-view+json": {
       "model_id": "3e91cebbb052450bb3aa36e818df493b",
       "version_major": 2,
       "version_minor": 0
      },
      "text/plain": [
       "A Jupyter Widget"
      ]
     },
     "metadata": {},
     "output_type": "display_data"
    }
   ],
   "source": [
    "text_Sonne = widgets.Textarea(\n",
    "        value=\"Dank Hoch Sabine erwarten uns sonnige Tage. Das Regenrisiko liegt bei lediglich 5%.\",\n",
    "        placeholder='Some LaTeX',\n",
    "        disabled=False\n",
    "    )\n",
    "text_Sonne\n",
    "\n",
    "lösung1_Sonne = widgets.Label(\n",
    "        value=\"$ E[u(y)] = p \\cdot u(\\\\overline{y}) + (1-p) \\cdot u(\\\\underline{y}) = (0,95) \\cdot (1.000)^{0.5} + (1-0,95) \\cdot (100)^{0.5} = 30,54 $\",\n",
    "        placeholder='Some LaTeX',\n",
    "        description='Some LaTeX',\n",
    "        disabled=False\n",
    "    )\n",
    "lösung1_Sonne\n",
    "\n",
    "lösung2_Sonne = widgets.Label(\n",
    "        value=\"$ u(E[y]) = u(p\\\\overline{y} + (1-p)\\\\underline{y}) = (0,95 \\cdot 1.000 + (1-0,95) \\cdot 100)^{0.5} = 30,90 $\",\n",
    "        placeholder='Some LaTeX',\n",
    "        description='Some LaTeX',\n",
    "        disabled=False\n",
    "    )\n",
    "lösung2_Sonne\n",
    "\n",
    "## Bilder einfügen\n",
    "file = builtins.open(\"Bilder/Sonne.png\", \"rb\")\n",
    "image = file.read()\n",
    "bild_Sonne = widgets.Image(\n",
    "    value=image,\n",
    "    format='png',\n",
    "    width=128,\n",
    "    height=128,\n",
    "    )\n",
    "bild_Sonne\n",
    "\n",
    "items = [bild_Sonne,text_Sonne]\n",
    "box_Sonne = Box(children=items)\n",
    "\n",
    "tab_nest = widgets.Tab()\n",
    "tab_nest.children = [box_Sonne,lösung1_Sonne,lösung2_Sonne]\n",
    "tab_nest.set_title(0, 'Wetterbericht')\n",
    "tab_nest.set_title(1, 'Erwartungsnutzen')\n",
    "tab_nest.set_title(2, 'Nutzen Durchschnitt')\n",
    "tab_nest"
   ]
  },
  {
   "cell_type": "markdown",
   "id": "51669ab9-70eb-4177-b22f-23934293f403",
   "metadata": {
    "extensions": {
     "jupyter_dashboards": {
      "activeView": "grid_default",
      "views": {
       "grid_default": {
        "col": null,
        "height": 2,
        "hidden": true,
        "locked": true,
        "row": null,
        "width": 2
       }
      }
     }
    }
   },
   "source": [
    "***\n",
    "\n",
    "### <span style=\"font-family:Century Gothic;color:DarkCyan\">1.3 Risikopräferenzen</span>\n",
    "\n",
    "\n",
    "> **Vergleichen Sie für beide Fälle Brunos Erwartungsnutzen und den Nutzen seines durchschnittlich erwarteten Einkommens. Welche Aussage können Sie über Brunos Risikopräferenzen treffen?**"
   ]
  },
  {
   "cell_type": "code",
   "execution_count": 8,
   "id": "b1671efa-2f86-4e26-82e1-5f3a16aa92fa",
   "metadata": {
    "extensions": {
     "jupyter_dashboards": {
      "activeView": "grid_default",
      "views": {
       "grid_default": {
        "col": null,
        "height": 2,
        "hidden": true,
        "locked": true,
        "row": null,
        "width": 2
       }
      }
     }
    }
   },
   "outputs": [],
   "source": [
    "slider_Risiko = widgets.Dropdown(\n",
    "    options=[('Risikoavers', 1), ('Risikoneutral', 2), ('Risikoliebend', 3)],\n",
    "    value=2,\n",
    "    description='Präferenz:',\n",
    ")\n",
    "\n",
    "text_Risiko = widgets.Label(\n",
    "        value=\"\",\n",
    "        placeholder='Some LaTeX',\n",
    "        description='Some LaTeX',\n",
    "        disabled=False\n",
    "    )\n",
    "\n",
    "\n",
    "button_Risiko = widgets.Button(\n",
    "    description='Auswertung',\n",
    "    disabled=False,\n",
    "    button_style='', # 'success', 'info', 'warning', 'danger' or ''\n",
    "    tooltip='Bitte klicken.',\n",
    "    #icon='check' # (FontAwesome names without the `fa-` prefix)\n",
    ")\n",
    "\n",
    "# define function\n",
    "def check(button_instance):\n",
    "  if slider_Risiko.value == 1:\n",
    "    button_Risiko.button_style = 'success'\n",
    "    button_Risiko.description='Richtig'\n",
    "    text_Risiko.value=\"$da \\, gilt \\, u(E[y]) > E(u[y])$\"\n",
    "  else:\n",
    "    button_Risiko.button_style = 'danger'\n",
    "    button_Risiko.description='Leider falsch.'\n",
    "    text_Risiko.value=\"\"\n",
    "\n",
    "# set function as on_click on button\n",
    "button_Risiko.on_click(check)"
   ]
  },
  {
   "cell_type": "code",
   "execution_count": 9,
   "id": "197b8c81-8156-4a60-a72b-a505f059480a",
   "metadata": {
    "extensions": {
     "jupyter_dashboards": {
      "activeView": "grid_default",
      "views": {
       "grid_default": {
        "col": null,
        "height": 2,
        "hidden": true,
        "locked": true,
        "row": null,
        "width": 2
       }
      }
     }
    }
   },
   "outputs": [
    {
     "data": {
      "application/vnd.jupyter.widget-view+json": {
       "model_id": "890e6e80a0c14a0db06ebca77852d571",
       "version_major": 2,
       "version_minor": 0
      },
      "text/plain": [
       "A Jupyter Widget"
      ]
     },
     "metadata": {},
     "output_type": "display_data"
    }
   ],
   "source": [
    "# nebeneinander in Box anzeigen\n",
    "\n",
    "items = [slider_Risiko, button_Risiko, text_Risiko]\n",
    "box_Risiko = Box(children=items)\n",
    "display(box_Risiko) # <- this one command displays all children"
   ]
  },
  {
   "cell_type": "markdown",
   "id": "920c6d33-b529-411e-a66e-fba7b0e78658",
   "metadata": {
    "extensions": {
     "jupyter_dashboards": {
      "activeView": "grid_default",
      "views": {
       "grid_default": {
        "col": null,
        "height": 2,
        "hidden": true,
        "locked": true,
        "row": null,
        "width": 2
       }
      }
     }
    }
   },
   "source": [
    "***\n",
    "\n",
    "## <span style=\"font-family:Century Gothic;color:DarkCyan\">Aufgabe 2</span>"
   ]
  },
  {
   "cell_type": "markdown",
   "id": "85e8bd57-61ec-4ce3-8087-0120cefa513b",
   "metadata": {
    "extensions": {
     "jupyter_dashboards": {
      "activeView": "grid_default",
      "views": {
       "grid_default": {
        "col": null,
        "height": 2,
        "hidden": true,
        "locked": true,
        "row": null,
        "width": 2
       }
      }
     }
    }
   },
   "source": [
    "Nun gehen wir davon aus, dass nicht das Wetter, sondern der Anteil an reichen Menschen in der Gesamtbevölkerung die Wahrscheinlichkeit $p$ des Individuums beeinflusst, ein hohes Einkommen zu haben.\n",
    "\n",
    "Je höher der Anteil an reichen Menschen in der Bevölkerung, desto höher die Wahrscheinlichkeit für Individuum $i$ ebenfalls zu dieser Gruppe zu gehören.\n",
    "Diese Wahrscheinlichkeit $p$ entspricht somit dem Anteil an reichen Personen relativ zur Gesamtbevölkerung.\n",
    "\n",
    "$ p = \\frac{r}{a+r}$\n",
    "\n",
    "mit $r =$ Anzahl reiche Menschen und $a =$ Anzahl arme Menschen."
   ]
  },
  {
   "cell_type": "markdown",
   "id": "9cda6811-27cd-4995-8424-2aa25493b041",
   "metadata": {
    "extensions": {
     "jupyter_dashboards": {
      "activeView": "grid_default",
      "views": {
       "grid_default": {
        "col": null,
        "height": 2,
        "hidden": true,
        "locked": true,
        "row": null,
        "width": 2
       }
      }
     }
    }
   },
   "source": [
    "***\n",
    "\n",
    "### <span style=\"font-family:Century Gothic;color:DarkCyan\">2.1 Armutsrisiko</span>\n",
    "\n",
    "In Deutschland gilt eine Person als armutsgefährdet, wenn sie über weniger als 60% des mittleren Einkommens (sog. Medianeinkommen) der Gesamtbevölkerung verfügt. \n",
    "\n",
    "> **Nutzen Sie die untenstehende Grafik, um die Höhe des mittleren Einkommens der Gesamtbevölkerung zu bestimmen.**"
   ]
  },
  {
   "cell_type": "code",
   "execution_count": 10,
   "id": "9f4a206e-375a-45f1-8b0b-46a86a17e48d",
   "metadata": {
    "extensions": {
     "jupyter_dashboards": {
      "activeView": "grid_default",
      "views": {
       "grid_default": {
        "col": null,
        "height": 2,
        "hidden": true,
        "locked": true,
        "row": null,
        "width": 2
       }
      }
     }
    }
   },
   "outputs": [
    {
     "data": {
      "text/html": [
       "\n",
       "        <iframe\n",
       "            width=\"100%\"\n",
       "            height=\"900px\"\n",
       "            src=\"https://www.iwkoeln.de/fileadmin/user_upload/HTML/2021/Einkommensverteilung/index.html\"\n",
       "            frameborder=\"0\"\n",
       "            allowfullscreen\n",
       "            \n",
       "        ></iframe>\n",
       "        "
      ],
      "text/plain": [
       "<IPython.lib.display.IFrame at 0x1ba09747ba8>"
      ]
     },
     "metadata": {},
     "output_type": "display_data"
    }
   ],
   "source": [
    "display(IFrame('https://www.iwkoeln.de/fileadmin/user_upload/HTML/2021/Einkommensverteilung/index.html', '100%', '900px'))\n",
    "#HTML('<iframe width=\"100%\" height=\"900\" src=\"https://www.iwkoeln.de/fileadmin/user_upload/HTML/2021/Einkommensverteilung/index.html\" frameborder=\"0\" allowfullscreen></iframe>')"
   ]
  },
  {
   "cell_type": "code",
   "execution_count": 11,
   "id": "3af33a3c-6771-4f5a-a37f-1296c66f9256",
   "metadata": {
    "extensions": {
     "jupyter_dashboards": {
      "activeView": "grid_default",
      "views": {
       "grid_default": {
        "col": null,
        "height": 2,
        "hidden": true,
        "locked": true,
        "row": null,
        "width": 2
       }
      }
     }
    }
   },
   "outputs": [],
   "source": [
    "text_median = widgets.IntText(\n",
    "    value=2000,\n",
    "    description='Mittleres E.',\n",
    "    disabled=False\n",
    ")\n",
    "\n",
    "\n",
    "output_median = widgets.Text(\n",
    "    value='',\n",
    "    disabled=True\n",
    ")\n",
    "\n",
    "\n",
    "button_median = widgets.Button(\n",
    "    description='Auswertung',\n",
    "    disabled=False,\n",
    "    button_style='', # 'success', 'info', 'warning', 'danger' or ''\n",
    "    tooltip='Bitte klicken.',\n",
    "    #icon='check' # (FontAwesome names without the `fa-` prefix)\n",
    ")\n",
    "\n",
    "hinweis_median = widgets.Label(\n",
    "        value=\"\",\n",
    "        placeholder='Some LaTeX',\n",
    "        description='Some LaTeX',\n",
    "        disabled=False\n",
    "    )\n",
    "\n",
    "# define function\n",
    "def check(button_instance):\n",
    "  if text_median.value  < 2017:\n",
    "    output_median.value = 'Das mittlere Einkommen ist höher.'\n",
    "    button_median.button_style = 'danger'\n",
    "  elif text_median.value > 2038:\n",
    "    output_median.value = 'Das mittlere Einkommen ist geringer.'\n",
    "    button_median.button_style = 'danger'\n",
    "  else:\n",
    "    output_median.value = 'Das mittlere Einkommen liegt in diesem Bereich.'\n",
    "    button_median.button_style = 'success'\n",
    "    hinweis_median.value = \"Bitte rechnen Sie im Folgenden mit dem exakten Wert (y=2.028).\"\n",
    "\n",
    "\n",
    "# set function as on_click on button\n",
    "button_median.on_click(check)"
   ]
  },
  {
   "cell_type": "markdown",
   "id": "57b0bed3-b584-43c9-8732-f22c65e98b32",
   "metadata": {},
   "source": [
    "> **Geben Sie den ermittelten Wert für das mittlere Einkommen in untenstehendes Feld ein. Durch Klicken des Auswertungs-Buttons erfahren Sie, ob der eingegebene Wert richtig ist.**"
   ]
  },
  {
   "cell_type": "code",
   "execution_count": 12,
   "id": "ab2affc7-2fdb-4f8b-ba38-c254606d4e43",
   "metadata": {
    "extensions": {
     "jupyter_dashboards": {
      "activeView": "grid_default",
      "views": {
       "grid_default": {
        "col": null,
        "height": 2,
        "hidden": true,
        "locked": true,
        "row": null,
        "width": 2
       }
      }
     }
    }
   },
   "outputs": [
    {
     "data": {
      "application/vnd.jupyter.widget-view+json": {
       "model_id": "28028135e1064c209242f4907ec03e30",
       "version_major": 2,
       "version_minor": 0
      },
      "text/plain": [
       "A Jupyter Widget"
      ]
     },
     "metadata": {},
     "output_type": "display_data"
    }
   ],
   "source": [
    "# nebeneinander in Box anzeigen\n",
    "items = [text_median, button_median, output_median, hinweis_median]\n",
    "box_median = Box(children=items)\n",
    "display(box_median) # <- this one command displays all children"
   ]
  },
  {
   "cell_type": "code",
   "execution_count": 13,
   "id": "b7b48cbe-b8e6-4619-86e2-bcca99a1b647",
   "metadata": {
    "extensions": {
     "jupyter_dashboards": {
      "activeView": "grid_default",
      "views": {
       "grid_default": {
        "col": null,
        "height": 2,
        "hidden": true,
        "locked": true,
        "row": null,
        "width": 2
       }
      }
     }
    }
   },
   "outputs": [],
   "source": [
    "text_Armut = widgets.IntText(\n",
    "    value=1000,\n",
    "    description='Armutsgr.:',\n",
    "    disabled=False\n",
    ")\n",
    "\n",
    "output_Armut = widgets.Text(\n",
    "    value='',\n",
    "    disabled=True\n",
    ")\n",
    "\n",
    "button_Armut = widgets.Button(\n",
    "    description='Auswertung',\n",
    "    disabled=False,\n",
    "    button_style='', # 'success', 'info', 'warning', 'danger' or ''\n",
    "    tooltip='Bitte klicken.',\n",
    "    #icon='check' # (FontAwesome names without the `fa-` prefix)\n",
    ")\n",
    "\n",
    "\n",
    "# define function\n",
    "def check(button_instance):\n",
    "  if text_Armut.value == 1217:\n",
    "    output_Armut.value = 'Richtig, das ist die Armutsgrenze.'\n",
    "    button_Armut.button_style = 'success'\n",
    "  elif text_Armut.value > 1217:\n",
    "    output_Armut.value = 'Die Armutsgrenze ist geringer.'\n",
    "    button_Armut.button_style = 'danger'\n",
    "  else:\n",
    "    output_Armut.value = 'Die Armutsgrenze ist höher.'\n",
    "    button_Armut.button_style = 'danger'\n",
    "\n",
    "# set function as on_click on button\n",
    "button_Armut.on_click(check)"
   ]
  },
  {
   "cell_type": "markdown",
   "id": "35f6e0b5-a58c-4f4d-9af2-8ab80630d89f",
   "metadata": {
    "extensions": {
     "jupyter_dashboards": {
      "activeView": "grid_default",
      "views": {
       "grid_default": {
        "col": null,
        "height": 2,
        "hidden": true,
        "locked": true,
        "row": null,
        "width": 2
       }
      }
     }
    }
   },
   "source": [
    "> **Berechnen Sie nun die Armutsgrenze (60% des mittleren Einkommens). Durch Klicken des Auswertungs-Buttons erfahren Sie, ob der eingegebene Wert richtig ist.**"
   ]
  },
  {
   "cell_type": "code",
   "execution_count": 14,
   "id": "22d7d1f1-15bc-4a4b-ae8c-661c222c30c1",
   "metadata": {
    "extensions": {
     "jupyter_dashboards": {
      "activeView": "grid_default",
      "views": {
       "grid_default": {
        "col": null,
        "height": 2,
        "hidden": true,
        "locked": true,
        "row": null,
        "width": 2
       }
      }
     }
    }
   },
   "outputs": [
    {
     "data": {
      "application/vnd.jupyter.widget-view+json": {
       "model_id": "91283962170649e9a9b7707a7f1b2560",
       "version_major": 2,
       "version_minor": 0
      },
      "text/plain": [
       "A Jupyter Widget"
      ]
     },
     "metadata": {},
     "output_type": "display_data"
    }
   ],
   "source": [
    "# nebeneinander in Box anzeigen\n",
    "items = [text_Armut, button_Armut, output_Armut]\n",
    "box_Armut = Box(children=items)\n",
    "display(box_Armut) # <- this one command displays all children"
   ]
  },
  {
   "cell_type": "code",
   "execution_count": 15,
   "id": "c2a63196-15a0-4c79-8be5-a663492e4985",
   "metadata": {
    "extensions": {
     "jupyter_dashboards": {
      "activeView": "grid_default",
      "views": {
       "grid_default": {
        "col": null,
        "height": 2,
        "hidden": true,
        "locked": true,
        "row": null,
        "width": 2
       }
      }
     }
    }
   },
   "outputs": [],
   "source": [
    "median_Anteil = widgets.BoundedFloatText(\n",
    "    value=0.5,\n",
    "    min=0,\n",
    "    max=1,\n",
    "    step=0.01,\n",
    "    description='$p=$',\n",
    "    disabled=False\n",
    ")\n",
    "\n",
    "\n",
    "\n",
    "output_Anteil = widgets.Text(\n",
    "    value='',\n",
    "    disabled=True\n",
    ")\n",
    "\n",
    "\n",
    "button_Anteil = widgets.Button(\n",
    "    description='Auswertung',\n",
    "    disabled=False,\n",
    "    button_style='', # 'success', 'info', 'warning', 'danger' or ''\n",
    "    tooltip='Bitte klicken.',\n",
    "    #icon='check' # (FontAwesome names without the `fa-` prefix)\n",
    ")\n",
    "\n",
    "\n",
    "# define function\n",
    "def check(button_instance):\n",
    "  if median_Anteil.value == 0.84:\n",
    "    output_Anteil.value = 'Richtig, das ist der korrekte Wert.'\n",
    "    button_Anteil.button_style = 'success'\n",
    "  elif median_Anteil.value > 0.84:\n",
    "    output_Anteil.value = 'Der Wert ist geringer.'\n",
    "    button_Anteil.button_style = 'danger'\n",
    "  else:\n",
    "    output_Anteil.value = 'Der Wert ist höher.'\n",
    "    button_Anteil.button_style = 'danger'\n",
    "\n",
    "# set function as on_click on button\n",
    "button_Anteil.on_click(check)"
   ]
  },
  {
   "cell_type": "markdown",
   "id": "9a9a0fbb-281a-41e8-aa32-6c0195d8324d",
   "metadata": {
    "extensions": {
     "jupyter_dashboards": {
      "activeView": "grid_default",
      "views": {
       "grid_default": {
        "col": null,
        "height": 2,
        "hidden": true,
        "locked": true,
        "row": null,
        "width": 2
       }
      }
     }
    }
   },
   "source": [
    "> **Wie hoch ist der Anteil an reichen Menschen in der Gesamtbevölkerung? Durch Klicken des Auswertungs-Buttons erfahren Sie, ob der eingegebene Wert richtig ist.**"
   ]
  },
  {
   "cell_type": "code",
   "execution_count": 16,
   "id": "671df1da-20a4-4634-b292-11ef5357799c",
   "metadata": {
    "extensions": {
     "jupyter_dashboards": {
      "activeView": "grid_default",
      "views": {
       "grid_default": {
        "col": null,
        "height": 2,
        "hidden": true,
        "locked": true,
        "row": null,
        "width": 2
       }
      }
     }
    }
   },
   "outputs": [
    {
     "data": {
      "application/vnd.jupyter.widget-view+json": {
       "model_id": "bd392e3cd6c148a69d561f7b4f36a95b",
       "version_major": 2,
       "version_minor": 0
      },
      "text/plain": [
       "A Jupyter Widget"
      ]
     },
     "metadata": {},
     "output_type": "display_data"
    }
   ],
   "source": [
    "# nebeneinander in Box anzeigen\n",
    "items = [median_Anteil, button_Anteil, output_Anteil]\n",
    "box_Anteil = Box(children=items)\n",
    "display(box_Anteil) # <- this one command displays all children"
   ]
  },
  {
   "cell_type": "code",
   "execution_count": 17,
   "id": "8ec0d3ef-5df2-4a1a-8154-d51907655238",
   "metadata": {
    "extensions": {
     "jupyter_dashboards": {
      "activeView": "grid_default",
      "views": {
       "grid_default": {
        "col": null,
        "height": 2,
        "hidden": true,
        "locked": true,
        "row": null,
        "width": 2
       }
      }
     }
    }
   },
   "outputs": [
    {
     "data": {
      "text/html": [
       "<a href=\"https://www.destatis.de/DE/Presse/Pressemitteilungen/2022/08/PD22_327_634.html\">Hier erhalten Sie weiterführende Infos zum Relativen Armutsrisiko in Deutschland.</a>\n"
      ],
      "text/plain": [
       "<IPython.core.display.HTML object>"
      ]
     },
     "metadata": {},
     "output_type": "display_data"
    }
   ],
   "source": [
    "%%html\n",
    "<a href=\"https://www.destatis.de/DE/Presse/Pressemitteilungen/2022/08/PD22_327_634.html\">Hier erhalten Sie weiterführende Infos zum Relativen Armutsrisiko in Deutschland.</a>"
   ]
  },
  {
   "cell_type": "markdown",
   "id": "8d7e430a-db95-430c-8c75-52c49316acd1",
   "metadata": {
    "extensions": {
     "jupyter_dashboards": {
      "activeView": "grid_default",
      "views": {
       "grid_default": {
        "col": null,
        "height": 2,
        "hidden": true,
        "locked": true,
        "row": null,
        "width": 2
       }
      }
     }
    }
   },
   "source": [
    "***\n",
    "\n",
    "### <span style=\"font-family:Century Gothic;color:DarkCyan\">2.2 Optimales Steuer- und Transfersystem </span>\n",
    "\n",
    "Der Staat entschließt sich, in die Einkommensverteilung einzugreifen. Individuen mit geringem Einkommen $\\underline{y}$ erhalten einen Transfer $B$. Diesen Transfer müssen Individuen mit hohem Einkommen $\\overline{y}$ durch Abgaben $T$ finanzieren. Daher gilt $rT=aB$.\n",
    "\n",
    "\n",
    " \n",
    "\n",
    "Der Nutzen des Individuums hängt von $B$ und $T$ ab. Jedes Individuum hat eine Vorstellung davon, wie hoch $B$ und $T$ sein sollten. Es hält die Transfers und Abgaben für ideal, die seinen eigenen Nutzen maximieren. \n",
    "\n",
    "> **Nutzen Sie den Slider, um die für Bruno optimale Steuerlast $T$ zu finden.**\n"
   ]
  },
  {
   "cell_type": "code",
   "execution_count": 18,
   "id": "4247e0d8-2b64-471b-a3e5-0d22a0f38fd1",
   "metadata": {
    "extensions": {
     "jupyter_dashboards": {
      "activeView": "grid_default",
      "views": {
       "grid_default": {
        "col": null,
        "height": 2,
        "hidden": true,
        "locked": true,
        "row": null,
        "width": 2
       }
      }
     }
    }
   },
   "outputs": [
    {
     "data": {
      "application/vnd.jupyter.widget-view+json": {
       "model_id": "a35ecfee6d4e4e448eb3a8c79acb0580",
       "version_major": 2,
       "version_minor": 0
      },
      "text/plain": [
       "A Jupyter Widget"
      ]
     },
     "metadata": {},
     "output_type": "display_data"
    },
    {
     "name": "stdout",
     "output_type": "stream",
     "text": [
      "Nutzen\n"
     ]
    }
   ],
   "source": [
    "def f(T):\n",
    "    return (0.84*(1000 - T)**0.5 + (1 - 0.84)*(100 + (0.84/0.16)*T)**0.5)\n",
    "\n",
    "\n",
    "\n",
    "interact(f, T=(0, 1000));\n",
    "print('Nutzen')\n"
   ]
  },
  {
   "cell_type": "markdown",
   "id": "6aff384b-5293-4b14-aba0-6b874481d16e",
   "metadata": {
    "extensions": {
     "jupyter_dashboards": {
      "activeView": "grid_default",
      "views": {
       "grid_default": {
        "col": null,
        "height": 2,
        "hidden": true,
        "locked": true,
        "row": null,
        "width": 2
       }
      }
     }
    }
   },
   "source": [
    "> **Berechnen Sie nun selbständig die für Bruno optimale Höhe von $B$ und $T$. Nutzen Sie zur Berechnung die Werte für Brunos Einkommen bei gutem und schlechtem Wetter aus Aufgabe 1.2 sowie die Armutsrisikoquote $(1-p)$ aus Aufgabe 2.1.**\n",
    "\n",
    "> **Versuchen Sie, die Berechnung selbständig durchzuführen. Falls nötig, nutzen Sie untenstehende Lösungshinweise für die einzelnen Schritte.**"
   ]
  },
  {
   "cell_type": "code",
   "execution_count": 19,
   "id": "06150f80-32a2-4631-873f-40f0a34eec5e",
   "metadata": {
    "extensions": {
     "jupyter_dashboards": {
      "activeView": "grid_default",
      "views": {
       "grid_default": {
        "col": null,
        "height": 2,
        "hidden": true,
        "locked": true,
        "row": null,
        "width": 2
       }
      }
     }
    }
   },
   "outputs": [
    {
     "data": {
      "application/vnd.jupyter.widget-view+json": {
       "model_id": "714429a39148445096ff2f87fa638012",
       "version_major": 2,
       "version_minor": 0
      },
      "text/plain": [
       "A Jupyter Widget"
      ]
     },
     "metadata": {},
     "output_type": "display_data"
    }
   ],
   "source": [
    "accordion2 = widgets.Accordion([\n",
    "    widgets.Label(\n",
    "        value=\"$$ U = p( \\\\overline{y} - T)^{0,5} + (1-p)( \\\\underline{y} + B)^{0,5} $$\",\n",
    "        placeholder='Some LaTeX',\n",
    "        description='Some LaTeX',\n",
    "        disabled=False\n",
    "    ),\n",
    "    widgets.Label(\n",
    "        value=\"$$ p= 0,84 $$ und $$ T = \\\\frac{0,16}{0,84} B$$\",\n",
    "        placeholder='Some LaTeX',\n",
    "        description='Some LaTeX',\n",
    "        disabled=False\n",
    "    ),\n",
    "    widgets.Label(\n",
    "        value=\"$$ U = 0,84 \\\\times ( 1000 - \\\\frac{0,16}{0,84} B)^{0,5} + (0,16) \\\\times ( 100 + B)^{0,5}  $$\",\n",
    "        placeholder='Some LaTeX',\n",
    "        description='Some LaTeX',\n",
    "        disabled=False\n",
    "    ),\n",
    "    widgets.Label(\n",
    "        value=\"$$ \\\\dfrac{ \\partial U}{\\partial B} = 0,84 \\\\times 0,5 \\\\times ( 1000 - \\\\frac{0,16}{0,84} B)^{-0,5}\\\\dfrac{\\partial y}{\\partial B} + 0,16 \\\\times 0.5 \\\\times ( 100 + B)^{-0,5} \\\\dfrac{\\partial y}{\\partial B} = 0$$\",\n",
    "        placeholder='Some LaTeX',\n",
    "        description='Some LaTeX',\n",
    "        disabled=False\n",
    "    ),\n",
    "    widgets.Label(\n",
    "        value=\"$$ \\\\dfrac{\\partial y}{\\partial B} = - \\\\frac{0,16}{0,84}  $$  und $$ \\\\dfrac{\\partial y}{\\partial B} = 1  $$\",\n",
    "        placeholder='Some LaTeX',\n",
    "        description='Some LaTeX',\n",
    "        disabled=False\n",
    "    ),\n",
    "    widgets.Label(\n",
    "        value=\"$$  \\\\dfrac{ \\partial U}{\\partial B} = 0,84 \\\\times 0,5 \\\\times ( 1000 - \\\\frac{0,16}{0,84} B)^{-0,5} \\\\times (- \\\\frac{0,16}{0,84}) + 0,16 \\\\times 0,5 \\\\times ( 100 + B)^{-0,5} = 0$$\",\n",
    "        placeholder='Some LaTeX',\n",
    "        description='Some LaTeX',\n",
    "        disabled=False\n",
    "    ),\n",
    "    widgets.Label(\n",
    "        value=\"$$ 0,16 \\\\times 0,5 \\\\times ( 100 + B)^{-0,5} = 0,16 \\\\times 0,5 \\\\times ( 1000 - \\\\frac{0,16}{0,84} B)^{-0,5}  $$\",\n",
    "        placeholder='Some LaTeX',\n",
    "        description='Some LaTeX',\n",
    "        disabled=False\n",
    "    ),\n",
    "    widgets.Label(\n",
    "        value=\"$$ ( 100 + B) = ( 1000 - \\\\frac{0,16}{0,84} B) $$\",\n",
    "        placeholder='Some LaTeX',\n",
    "        description='Some LaTeX',\n",
    "        disabled=False\n",
    "    ),\n",
    "    widgets.Label(\n",
    "        value=\"$$  (1+\\\\frac{0,16}{0,84})B = 900 \\\\rightarrow B = 900 \\\\times 0,84 = 756 \\\\rightarrow T = \\\\frac{0,16}{0,84}756 = \\\\mathbf{144}$$ \",\n",
    "        placeholder='Some LaTeX',\n",
    "        description='Some LaTeX',\n",
    "        disabled=False\n",
    ")], selected_index=None)\n",
    "accordion2.set_title(0, 'Schritt 1: Nutzenfunktion aufstellen')\n",
    "accordion2.set_title(1, 'Schritt 2: Wahrscheinlichkeit p bestimmen')\n",
    "accordion2.set_title(2, 'Schritt 3: Werte in Nutzenfunktion einsetzen')\n",
    "accordion2.set_title(3, 'Schritt 4: Ableitung nach B bilden')\n",
    "accordion2.set_title(4, 'Schritt 5: Innere Ableitungen bilden')\n",
    "accordion2.set_title(5, 'Schritt 6: Innere Ableitungen einsetzen')\n",
    "accordion2.set_title(6, 'Schritt 7: Nach B auflösen')\n",
    "accordion2.set_title(7, 'Schritt 8: Vereinfachen')\n",
    "accordion2.set_title(8, 'Schritt 9: B und T bestimmen')\n",
    "\n",
    "\n",
    "\n",
    "\n",
    "accordion = widgets.Accordion([\n",
    "    widgets.Label(\n",
    "        value=\"$$ f(x)=x^n \\\\rightarrow f'(x) = n \\\\times x^{n-1} $$\",\n",
    "        placeholder='Some LaTeX',\n",
    "        description='Some LaTeX',\n",
    "        disabled=False\n",
    "    ),\n",
    "    widgets.Label(\n",
    "        value=\"$$f(x) = g(h(x)) \\\\rightarrow f'(x) = g'(h(x)) \\\\times h'(x)$$\",\n",
    "        placeholder='Some LaTeX',\n",
    "        description='Some LaTeX',\n",
    "        disabled=False  \n",
    ")], selected_index=None)\n",
    "accordion.set_title(0, 'Potenzregel')\n",
    "accordion.set_title(1, 'Kettenregel')\n",
    "\n",
    "\n",
    "\n",
    "tab_nest = widgets.Tab()\n",
    "tab_nest.children = [accordion2, accordion]\n",
    "tab_nest.set_title(0, 'Lösungsschritte')\n",
    "tab_nest.set_title(1, 'Ableitungsregeln')\n",
    "tab_nest"
   ]
  },
  {
   "cell_type": "markdown",
   "id": "01704d1f-d11f-4f92-a1fb-d27331c1ac14",
   "metadata": {
    "extensions": {
     "jupyter_dashboards": {
      "activeView": "grid_default",
      "views": {
       "grid_default": {
        "col": null,
        "height": 2,
        "hidden": true,
        "locked": true,
        "row": null,
        "width": 2
       }
      }
     }
    }
   },
   "source": [
    "***\n",
    "\n",
    "## <span style=\"font-family:Century Gothic;color:DarkCyan\">Aufgabe 3 </span>\n",
    "\n",
    "Die Arbeitslosenversicherung ist eine von fünf verpflichtenden Sozialversicherungen in Deutschland. Das bedeutet, alle Arbeitnehmer:innen müssen in die Versicherung einzahlen. \n"
   ]
  },
  {
   "cell_type": "code",
   "execution_count": 20,
   "id": "15ab8cb6-5176-4d9b-84c5-88f94624cadf",
   "metadata": {
    "extensions": {
     "jupyter_dashboards": {
      "activeView": "grid_default",
      "views": {
       "grid_default": {
        "col": null,
        "height": 2,
        "hidden": true,
        "locked": true,
        "row": null,
        "width": 2
       }
      }
     }
    }
   },
   "outputs": [
    {
     "data": {
      "text/html": [
       "<a href=\"https://www.bmas.de/DE/Soziales/Sozialversicherung/sozialversicherung-art.html\">Mehr Infos zur Sozialversicherung in Deutschland</a>\n"
      ],
      "text/plain": [
       "<IPython.core.display.HTML object>"
      ]
     },
     "metadata": {},
     "output_type": "display_data"
    }
   ],
   "source": [
    "%%html\n",
    "<a href=\"https://www.bmas.de/DE/Soziales/Sozialversicherung/sozialversicherung-art.html\">Mehr Infos zur Sozialversicherung in Deutschland</a>"
   ]
  },
  {
   "cell_type": "markdown",
   "id": "d4f43cb8-5754-4eb1-995e-aa22610eced2",
   "metadata": {
    "extensions": {
     "jupyter_dashboards": {
      "activeView": "grid_default",
      "views": {
       "grid_default": {
        "col": null,
        "height": 2,
        "hidden": true,
        "locked": true,
        "row": null,
        "width": 2
       }
      }
     }
    }
   },
   "source": [
    "***\n",
    "\n",
    "### <span style=\"font-family:Century Gothic;color:DarkCyan\">3.1 Private Arbeitslosenversicherung </span>\n",
    "\n",
    "Warum übernimmt der Staat diese Aufgabe? Beschäftigen wir uns hierzu mit folgendem hypothetischen Fall: Betrachten wir eine Gesellschaft, in der der Anteil an Arbeitslosen bei 5% liegt. Wird ein Individuum arbeitslos, muss es einen Einkommensverlust in Kauf nehmen, da sein Einkommen von $\\overline{y} = 60.000$ auf $\\underline{y} = 40.000$ Euro sinkt.\n",
    "\n",
    "Sie überlegen, die Hohenheimer-Hartz-Ersatz (HHE) zu gründen und als privater Anbieter einer Arbeitslosenversicherung in den Markt einzusteigen. Sie bieten Ihren Kunden an, im Falle der Arbeitslosigkeit diesen Einkommensverlust durch eine Transferzahlung $B$ auszugleichen.\n",
    "Sie möchten Ihren Kunden die Versicherung zu einem Preis (Versicherungsprämie $P$) anbieten, der genau Ihre erwarteten Auszahlungen deckt.\n",
    "\n",
    "> **Wie hoch würden Sie die Versicherungsprämie wählen? Berechen Sie den korrekten Wert und verifizieren Sie Ihr Ergebnis durch Klicken auf den Auswertungs-Button.**"
   ]
  },
  {
   "cell_type": "code",
   "execution_count": 21,
   "id": "37d12e27-2d51-47ad-9d9e-93a2c812a239",
   "metadata": {
    "extensions": {
     "jupyter_dashboards": {
      "activeView": "grid_default",
      "views": {
       "grid_default": {
        "col": null,
        "height": 2,
        "hidden": true,
        "locked": true,
        "row": null,
        "width": 2
       }
      }
     }
    }
   },
   "outputs": [],
   "source": [
    "opinion_HHE = widgets.RadioButtons(\n",
    "    options=['500€', '1.000€', '2.000€'],\n",
    "    value=None,\n",
    "    description='Prämie P',\n",
    "    disabled=False\n",
    ")\n",
    "\n",
    "button_HHE = widgets.Button(\n",
    "    description='Auswertung',\n",
    "    disabled=False,\n",
    "    button_style='', # 'success', 'info', 'warning', 'danger' or ''\n",
    "    tooltip='Bitte klicken.',\n",
    "    #icon='check' # (FontAwesome names without the `fa-` prefix)\n",
    ")\n",
    "\n",
    "output_HHE = widgets.Text(\n",
    "    value='',\n",
    "    disabled=True\n",
    ")\n",
    "\n",
    "# define function\n",
    "def check(button_instance):\n",
    "  if opinion_HHE.value == '1.000€':\n",
    "    output_HHE.value = ''\n",
    "    button_HHE.button_style = 'success'\n",
    "    button_HHE.description = 'Richtig'\n",
    "  else:\n",
    "    output_HHE.value = 'Die Formel lautet: Prämie = 0,05 x 20.000€'\n",
    "    button_HHE.button_style = 'danger'\n",
    "    button_HHE.description = 'Leider Falsch'\n",
    "\n",
    "# set function as on_click on button\n",
    "button_HHE.on_click(check)"
   ]
  },
  {
   "cell_type": "code",
   "execution_count": 22,
   "id": "114cb769-5bc9-456f-8635-36f986213d6b",
   "metadata": {
    "extensions": {
     "jupyter_dashboards": {
      "activeView": "grid_default",
      "views": {
       "grid_default": {
        "col": null,
        "height": 2,
        "hidden": true,
        "locked": true,
        "row": null,
        "width": 2
       }
      }
     }
    }
   },
   "outputs": [
    {
     "data": {
      "application/vnd.jupyter.widget-view+json": {
       "model_id": "2f3efe2ea1b9437da53e9f00498c4f86",
       "version_major": 2,
       "version_minor": 0
      },
      "text/plain": [
       "A Jupyter Widget"
      ]
     },
     "metadata": {},
     "output_type": "display_data"
    },
    {
     "data": {
      "application/vnd.jupyter.widget-view+json": {
       "model_id": "4c7346aa95644ca4aad019b25ad4c3a6",
       "version_major": 2,
       "version_minor": 0
      },
      "text/plain": [
       "A Jupyter Widget"
      ]
     },
     "metadata": {},
     "output_type": "display_data"
    },
    {
     "data": {
      "application/vnd.jupyter.widget-view+json": {
       "model_id": "d7b7bbe34210439cb68f9fd25c82e422",
       "version_major": 2,
       "version_minor": 0
      },
      "text/plain": [
       "A Jupyter Widget"
      ]
     },
     "metadata": {},
     "output_type": "display_data"
    }
   ],
   "source": [
    "display(opinion_HHE)\n",
    "display(button_HHE)\n",
    "display(output_HHE)"
   ]
  },
  {
   "cell_type": "markdown",
   "id": "c7fa6e3a-33e0-415a-9c1e-38c6d4327511",
   "metadata": {},
   "source": [
    "> **Berechnen Sie nun den erwarteten Nutzen eines repräsentativen Individuums bei Abschluss der Versicherung. Gehen Sie hierbei davon aus, dass die Individuen risikoavers sind und die Nutzenfunktion $u(y)=y^{0,5}$ besitzen.**"
   ]
  },
  {
   "cell_type": "code",
   "execution_count": 23,
   "id": "f7612608-0aa1-4cad-8cf6-9e87489956e5",
   "metadata": {
    "extensions": {
     "jupyter_dashboards": {
      "activeView": "grid_default",
      "views": {
       "grid_default": {
        "col": null,
        "height": 2,
        "hidden": true,
        "locked": true,
        "row": null,
        "width": 2
       }
      }
     }
    }
   },
   "outputs": [
    {
     "data": {
      "application/vnd.jupyter.widget-view+json": {
       "model_id": "0e72c2ad768c484294ddba91fde74f98",
       "version_major": 2,
       "version_minor": 0
      },
      "text/plain": [
       "A Jupyter Widget"
      ]
     },
     "metadata": {},
     "output_type": "display_data"
    }
   ],
   "source": [
    "accordion = widgets.Accordion([\n",
    "    widgets.Label(\n",
    "        value=\"$E[u] = (1-r) \\\\cdot u(\\\\overline{y} - P) + r \\\\cdot u(\\\\underline{y} - P + B) $\",\n",
    "        placeholder='Some LaTeX',\n",
    "        description='Some LaTeX',\n",
    "        disabled=False\n",
    "    ),\n",
    "    widgets.Label(\n",
    "        value=\"$E[u] = (1-r)(60.000 - 1.000)^{0,5} + r(40.000 - 1.000 + 20.000)^{0,5} = (59.000)^{0,5} = 242,90$\",\n",
    "        placeholder='Some LaTeX',\n",
    "        description='Some LaTeX',\n",
    "        disabled=False  \n",
    ")], selected_index=None)\n",
    "accordion.set_title(0, 'Formel')\n",
    "accordion.set_title(1, 'Lösung')\n",
    "accordion"
   ]
  },
  {
   "cell_type": "markdown",
   "id": "fac56530-f72c-493d-bbb7-6cd637d2c2a2",
   "metadata": {
    "extensions": {
     "jupyter_dashboards": {
      "activeView": "grid_default",
      "views": {
       "grid_default": {
        "col": null,
        "height": 2,
        "hidden": true,
        "locked": true,
        "row": null,
        "width": 2
       }
      }
     }
    }
   },
   "source": [
    "***\n",
    "\n",
    "### <span style=\"font-family:Century Gothic;color:DarkCyan\">3.2 Heterogenes Risiko </span>\n",
    "\n",
    "Gehen Sie nun davon aus, dass die Individuen ihr persönliches Risiko $r_i$ kennen, arbeitslos zu werden. Dieses Risiko unterscheidet sich u.a. nach Qualifikationsniveau. Untenstehender Grafik können Sie die verschiedenen Arbeitslosenquoten für verschiedene Qualifikationsgruppen in Deutschland entnehmen.\n",
    "\n"
   ]
  },
  {
   "cell_type": "code",
   "execution_count": 24,
   "id": "cd11e818-6340-42e9-85c7-012ed6a4aeec",
   "metadata": {
    "extensions": {
     "jupyter_dashboards": {
      "activeView": "grid_default",
      "views": {
       "grid_default": {
        "col": null,
        "height": 2,
        "hidden": true,
        "locked": true,
        "row": null,
        "width": 2
       }
      }
     }
    }
   },
   "outputs": [
    {
     "data": {
      "application/vnd.jupyter.widget-view+json": {
       "model_id": "5067206b3f0d4078897514c82726850c",
       "version_major": 2,
       "version_minor": 0
      },
      "text/plain": [
       "A Jupyter Widget"
      ]
     },
     "metadata": {},
     "output_type": "display_data"
    }
   ],
   "source": [
    "## Bilder einfügen\n",
    "file = builtins.open(\"Bilder/Arbeitslosenquote.png\", \"rb\")\n",
    "image = file.read()\n",
    "bild = widgets.Image(\n",
    "    value=image,\n",
    "    format='png',\n",
    "   # width=128,\n",
    "   # height=128,\n",
    "    )\n",
    "bild"
   ]
  },
  {
   "cell_type": "code",
   "execution_count": 25,
   "id": "f69c54d9-ba24-47f9-8a47-3a801b9b26c2",
   "metadata": {
    "extensions": {
     "jupyter_dashboards": {
      "activeView": "grid_default",
      "views": {
       "grid_default": {
        "col": null,
        "height": 2,
        "hidden": true,
        "locked": true,
        "row": null,
        "width": 2
       }
      }
     }
    }
   },
   "outputs": [
    {
     "data": {
      "text/html": [
       "<a href=\"https://doku.iab.de/arbeitsmarktdaten/Qualo_2020.pdf\">Quelle</a>\n"
      ],
      "text/plain": [
       "<IPython.core.display.HTML object>"
      ]
     },
     "metadata": {},
     "output_type": "display_data"
    }
   ],
   "source": [
    "%%html\n",
    "<a href=\"https://doku.iab.de/arbeitsmarktdaten/Qualo_2020.pdf\">Quelle</a>"
   ]
  },
  {
   "cell_type": "markdown",
   "id": "91d8a319-d9be-4b2e-92e5-1b5e4da18c0f",
   "metadata": {
    "extensions": {
     "jupyter_dashboards": {
      "activeView": "grid_default",
      "views": {
       "grid_default": {
        "col": null,
        "height": 2,
        "hidden": true,
        "locked": true,
        "row": null,
        "width": 2
       }
      }
     }
    }
   },
   "source": [
    "> **Ausgehend von den Werten für 2019, berechnen Sie für jedes Qualifikationsniveau und das damit verbundene Risiko $r_i$ den erwarteten Nutzen ohne Versicherung. Nutzen Sie den Slider, um Ihre Ergebnisse zu verifizieren.**"
   ]
  },
  {
   "cell_type": "code",
   "execution_count": 26,
   "id": "1bb26eab-6fd0-4d2b-8293-c516b7b0e16d",
   "metadata": {
    "extensions": {
     "jupyter_dashboards": {
      "activeView": "grid_default",
      "views": {
       "grid_default": {
        "col": null,
        "height": 2,
        "hidden": true,
        "locked": true,
        "row": null,
        "width": 2
       }
      }
     }
    }
   },
   "outputs": [],
   "source": [
    "def f(r):\n",
    "    return ((1-r)*60000**0.5 + r*40000**0.5)"
   ]
  },
  {
   "cell_type": "code",
   "execution_count": 27,
   "id": "e83737de-ca05-47f1-a797-67fe2cac8d9f",
   "metadata": {
    "extensions": {
     "jupyter_dashboards": {
      "activeView": "grid_default",
      "views": {
       "grid_default": {
        "col": null,
        "height": 2,
        "hidden": true,
        "locked": true,
        "row": null,
        "width": 2
       }
      }
     }
    }
   },
   "outputs": [
    {
     "data": {
      "application/vnd.jupyter.widget-view+json": {
       "model_id": "936b6b3d7aeb41948bdd6ebe0444f5de",
       "version_major": 2,
       "version_minor": 0
      },
      "text/plain": [
       "A Jupyter Widget"
      ]
     },
     "metadata": {},
     "output_type": "display_data"
    },
    {
     "name": "stdout",
     "output_type": "stream",
     "text": [
      "Erwarteter Nutzen ohne Versicherung\n"
     ]
    }
   ],
   "source": [
    "interact(f, r=(0,1,0.01));\n",
    "print('Erwarteter Nutzen ohne Versicherung')"
   ]
  },
  {
   "cell_type": "markdown",
   "id": "13f43fa6-1bbb-485a-8db7-94844fed7aab",
   "metadata": {
    "extensions": {
     "jupyter_dashboards": {
      "activeView": "grid_default",
      "views": {
       "grid_default": {
        "col": null,
        "height": 2,
        "hidden": true,
        "locked": true,
        "row": null,
        "width": 2
       }
      }
     }
    }
   },
   "source": [
    "> **Wann würden Individuen Ihre Versicherung abschließen?**"
   ]
  },
  {
   "cell_type": "markdown",
   "id": "c9cf39b3-7a39-4e9d-8d77-da2a2f0550ea",
   "metadata": {
    "extensions": {
     "jupyter_dashboards": {
      "activeView": "grid_default",
      "views": {
       "grid_default": {
        "col": null,
        "height": 2,
        "hidden": true,
        "locked": true,
        "row": null,
        "width": 2
       }
      }
     }
    }
   },
   "source": [
    "Wenn der erwartete Nutzen ohne Versicherung"
   ]
  },
  {
   "cell_type": "code",
   "execution_count": 28,
   "id": "d136897d-d443-4a20-95a8-2021ff2eeeb9",
   "metadata": {
    "extensions": {
     "jupyter_dashboards": {
      "activeView": "grid_default",
      "views": {
       "grid_default": {
        "col": null,
        "height": 2,
        "hidden": true,
        "locked": true,
        "row": null,
        "width": 2
       }
      }
     }
    }
   },
   "outputs": [],
   "source": [
    "opinion_Versicherung = widgets.RadioButtons(\n",
    "    options=['größer', 'kleiner'],\n",
    "    value=None,\n",
    "    description='',\n",
    "    disabled=False\n",
    ")\n",
    "\n",
    "button_Versicherung = widgets.Button(\n",
    "    description='Auswertung',\n",
    "    disabled=False,\n",
    "    button_style='', # 'success', 'info', 'warning', 'danger' or ''\n",
    "    tooltip='Bitte klicken.',\n",
    "    #icon='check' # (FontAwesome names without the `fa-` prefix)\n",
    ")\n",
    "\n",
    "\n",
    "\n",
    "# define function\n",
    "def check(button_instance):\n",
    "  if opinion_Versicherung.value == 'kleiner':\n",
    "    button_Versicherung.button_style = 'success'\n",
    "    button_Versicherung.description = 'Richtig'\n",
    "  else:\n",
    "    button_Versicherung.button_style = 'danger'\n",
    "    button_Versicherung.description = 'Leider Falsch'\n",
    "\n",
    "# set function as on_click on button\n",
    "button_Versicherung.on_click(check)"
   ]
  },
  {
   "cell_type": "code",
   "execution_count": 29,
   "id": "0a24557d-1559-43ad-ae02-31b50cd260c7",
   "metadata": {
    "extensions": {
     "jupyter_dashboards": {
      "activeView": "grid_default",
      "views": {
       "grid_default": {
        "col": null,
        "height": 2,
        "hidden": true,
        "locked": true,
        "row": null,
        "width": 2
       }
      }
     }
    }
   },
   "outputs": [
    {
     "data": {
      "application/vnd.jupyter.widget-view+json": {
       "model_id": "c726b580bae9493aa6e96ec29c76a4ef",
       "version_major": 2,
       "version_minor": 0
      },
      "text/plain": [
       "A Jupyter Widget"
      ]
     },
     "metadata": {},
     "output_type": "display_data"
    }
   ],
   "source": [
    "items = [opinion_Versicherung, button_Versicherung]\n",
    "box_Versicherung = Box(children=items)\n",
    "display(box_Versicherung) # <- this one command displays all children"
   ]
  },
  {
   "cell_type": "markdown",
   "id": "029b581a-896b-4577-a902-3e425e6099de",
   "metadata": {
    "extensions": {
     "jupyter_dashboards": {
      "activeView": "grid_default",
      "views": {
       "grid_default": {
        "col": null,
        "height": 2,
        "hidden": true,
        "locked": true,
        "row": null,
        "width": 2
       }
      }
     }
    }
   },
   "source": [
    "als der zu erwartende Nutzen mit Versicherung ist."
   ]
  },
  {
   "cell_type": "markdown",
   "id": "df73c518-15cb-4680-bc37-184bf39ce593",
   "metadata": {
    "extensions": {
     "jupyter_dashboards": {
      "activeView": "grid_default",
      "views": {
       "grid_default": {
        "col": null,
        "height": 2,
        "hidden": true,
        "locked": true,
        "row": null,
        "width": 2
       }
      }
     }
    }
   },
   "source": [
    "> **Welche Individuen würden folglich eine Versicherung zum Preis von 1.000 € abschließen?**"
   ]
  },
  {
   "cell_type": "code",
   "execution_count": 30,
   "id": "5f44fc6b-6ea0-47e8-8b88-3c2511d92f05",
   "metadata": {
    "extensions": {
     "jupyter_dashboards": {
      "activeView": "grid_default",
      "views": {
       "grid_default": {
        "col": null,
        "height": 2,
        "hidden": true,
        "locked": true,
        "row": null,
        "width": 2
       }
      }
     }
    }
   },
   "outputs": [],
   "source": [
    "opinion_Preis = widgets.RadioButtons(\n",
    "    options=['Personen ohne Berufsabschluss', 'Personen mit Lehre/Fachhochschule','Personen mit Hochschule/Fachhochschule'],\n",
    "    value=None,\n",
    "    description='',\n",
    "    disabled=False\n",
    ")\n",
    "\n",
    "button_Preis = widgets.Button(\n",
    "    description='Auswertung',\n",
    "    disabled=False,\n",
    "    button_style='', # 'success', 'info', 'warning', 'danger' or ''\n",
    "    tooltip='Bitte klicken.',\n",
    "    #icon='check' # (FontAwesome names without the `fa-` prefix)\n",
    ")\n",
    "\n",
    "\n",
    "# define function\n",
    "def check(button_instance):\n",
    "  if opinion_Preis.value == 'Personen ohne Berufsabschluss':\n",
    "    button_Preis.button_style = 'success'\n",
    "    button_Preis.description = 'Richtig'\n",
    "  else:\n",
    "    button_Preis.button_style = 'danger'\n",
    "    button_Preis.description = 'Leider Falsch'\n",
    "\n",
    "# set function as on_click on button\n",
    "button_Preis.on_click(check)"
   ]
  },
  {
   "cell_type": "code",
   "execution_count": 31,
   "id": "d4a0a19f-88ca-4eb9-b571-f9e248a4cb6c",
   "metadata": {
    "extensions": {
     "jupyter_dashboards": {
      "activeView": "grid_default",
      "views": {
       "grid_default": {
        "col": null,
        "height": 2,
        "hidden": true,
        "locked": true,
        "row": null,
        "width": 2
       }
      }
     }
    }
   },
   "outputs": [
    {
     "data": {
      "application/vnd.jupyter.widget-view+json": {
       "model_id": "6d6d7fa3d66c409cbeb6561689cfd897",
       "version_major": 2,
       "version_minor": 0
      },
      "text/plain": [
       "A Jupyter Widget"
      ]
     },
     "metadata": {},
     "output_type": "display_data"
    }
   ],
   "source": [
    "items = [opinion_Preis, button_Preis]\n",
    "box_Preis = Box(children=items)\n",
    "display(box_Preis) # <- this one command displays all children"
   ]
  },
  {
   "cell_type": "markdown",
   "id": "1f493f0d-1e1c-4e7a-8463-0b0b4eb98faf",
   "metadata": {},
   "source": [
    "***\n",
    "\n",
    "### <span style=\"font-family:Century Gothic;color:DarkCyan\">3.3 Gewinne der Versicherung </span>"
   ]
  },
  {
   "cell_type": "markdown",
   "id": "8b2a8723-bf37-45ea-8292-d77a94229fd0",
   "metadata": {
    "extensions": {
     "jupyter_dashboards": {
      "activeView": "grid_default",
      "views": {
       "grid_default": {
        "col": null,
        "height": 2,
        "hidden": true,
        "locked": true,
        "row": null,
        "width": 2
       }
      }
     }
    }
   },
   "source": [
    "Gehen Sie davon aus, dass 100 Personen oben ausgewählter Qualifizierungsgruppe Ihre Versicherung abschließen. Was würde das für Ihre Gewinne bedeuten? \n",
    "\n",
    "> **Berechnen Sie die zu erwartenden Einnahmen und Auszahlungen. Überprüfen Sie Ihr Ergebnis unten.**"
   ]
  },
  {
   "cell_type": "code",
   "execution_count": 32,
   "id": "b29bb46b-9a08-49fc-bb28-04a301f75aa0",
   "metadata": {
    "extensions": {
     "jupyter_dashboards": {
      "activeView": "grid_default",
      "views": {
       "grid_default": {
        "col": null,
        "height": 2,
        "hidden": true,
        "locked": true,
        "row": null,
        "width": 2
       }
      }
     }
    }
   },
   "outputs": [
    {
     "data": {
      "application/vnd.jupyter.widget-view+json": {
       "model_id": "e4075d910afb449cb0f7758ae65c813a",
       "version_major": 2,
       "version_minor": 0
      },
      "text/plain": [
       "A Jupyter Widget"
      ]
     },
     "metadata": {},
     "output_type": "display_data"
    }
   ],
   "source": [
    "accordion = widgets.Accordion([\n",
    "    widgets.Label(\n",
    "        value=\"$E = 100 \\cdot 1.000 = 100.000 $\",\n",
    "        placeholder='Some LaTeX',\n",
    "        description='Some LaTeX',\n",
    "        disabled=False\n",
    "    ),\n",
    "    widgets.Label(\n",
    "        value=\"$C=0,17 \\cdot 100 \\cdot 20.000 = 340.000$\",\n",
    "        placeholder='Some LaTeX',\n",
    "        description='Some LaTeX',\n",
    "        disabled=False  \n",
    ")], selected_index=None)\n",
    "accordion.set_title(0, 'Erwartete Einnahmen pro 100 Versicherte')\n",
    "accordion.set_title(1, 'Erwartete Auszahlungen pro 100 Versicherte')\n",
    "accordion\n",
    "\n"
   ]
  },
  {
   "cell_type": "markdown",
   "id": "0adbf852-1149-4e39-8931-d8c04c7ab8cb",
   "metadata": {
    "extensions": {
     "jupyter_dashboards": {
      "activeView": "grid_default",
      "views": {
       "grid_default": {
        "col": null,
        "height": 2,
        "hidden": true,
        "locked": true,
        "row": null,
        "width": 2
       }
      }
     }
    }
   },
   "source": [
    "> **Auf Grundlage dieser Berechnungen, würden Sie sich entscheiden, den Hohenheimer-Hartz-Ersatz am privaten Markt anzubieten?**"
   ]
  },
  {
   "cell_type": "code",
   "execution_count": 33,
   "id": "14d08312-ebc9-4534-a9db-c3600f983b61",
   "metadata": {
    "extensions": {
     "jupyter_dashboards": {
      "activeView": "grid_default",
      "views": {
       "grid_default": {
        "col": null,
        "height": 2,
        "hidden": true,
        "locked": true,
        "row": null,
        "width": 2
       }
      }
     }
    }
   },
   "outputs": [],
   "source": [
    "opinion_final = widgets.RadioButtons(\n",
    "    options=['Ja','Nein'],\n",
    "    value=None,\n",
    "    description='',\n",
    "    disabled=False,\n",
    ")\n",
    "\n",
    "button_final = widgets.Button(\n",
    "    description='Auswertung',\n",
    "    disabled=False,\n",
    "    button_style='', # 'success', 'info', 'warning', 'danger' or ''\n",
    "    tooltip='Bitte klicken.',\n",
    "    #icon='check' # (FontAwesome names without the `fa-` prefix)\n",
    ")\n",
    "\n",
    "\n",
    "# define function\n",
    "def check(button_instance):\n",
    "  if opinion_final.value == 'Nein':\n",
    "    button_final.button_style = 'success'\n",
    "    button_final.description = 'Gute Entscheidung!'\n",
    "  else:\n",
    "    button_final.button_style = 'danger'\n",
    "    button_final.description = 'Mutig, aber unklug.'\n",
    "\n",
    "# set function as on_click on button\n",
    "button_final.on_click(check)"
   ]
  },
  {
   "cell_type": "code",
   "execution_count": 34,
   "id": "80de8749-83ec-4e78-a540-647dfbc6b2a4",
   "metadata": {
    "extensions": {
     "jupyter_dashboards": {
      "activeView": "grid_default",
      "views": {
       "grid_default": {
        "col": null,
        "height": 2,
        "hidden": true,
        "locked": true,
        "row": null,
        "width": 2
       }
      }
     }
    }
   },
   "outputs": [
    {
     "data": {
      "application/vnd.jupyter.widget-view+json": {
       "model_id": "20f5261fac6c4f0a980c6ba2438edc9d",
       "version_major": 2,
       "version_minor": 0
      },
      "text/plain": [
       "A Jupyter Widget"
      ]
     },
     "metadata": {},
     "output_type": "display_data"
    }
   ],
   "source": [
    "items = [opinion_final, button_final]\n",
    "box_final = Box(children=items)\n",
    "display(box_final) # <- this one command displays all children"
   ]
  },
  {
   "cell_type": "markdown",
   "id": "a236f528-1a65-4b5f-bb90-a5e296a4603f",
   "metadata": {
    "extensions": {
     "jupyter_dashboards": {
      "activeView": "grid_default",
      "views": {
       "grid_default": {
        "col": null,
        "height": 2,
        "hidden": true,
        "locked": true,
        "row": null,
        "width": 2
       }
      }
     }
    }
   },
   "source": [
    "> **Unter welchen Umständen könnten Sie Ihre Versicherung gewinnbringend betreiben?** "
   ]
  },
  {
   "cell_type": "markdown",
   "id": "4378f233-7006-48af-b4d7-e3e28e86f92d",
   "metadata": {},
   "source": [
    "<div class=\"alert alert-block alert-info\"><b>Info:</b> Diese Frage werden wir in der Präsenzveranstaltung näher erläutern. Außerdem werden wir offene Fragen zu obigen Aufgaben klären.</div>"
   ]
  }
 ],
 "metadata": {
  "extensions": {
   "jupyter_dashboards": {
    "activeView": "grid_default",
    "version": 1,
    "views": {
     "grid_default": {
      "cellMargin": 2,
      "defaultCellHeight": 40,
      "maxColumns": 12,
      "name": "grid",
      "type": "grid"
     }
    }
   }
  },
  "kernelspec": {
   "display_name": "Python 3 (ipykernel)",
   "language": "python",
   "name": "python3"
  },
  "language_info": {
   "codemirror_mode": {
    "name": "ipython",
    "version": 3
   },
   "file_extension": ".py",
   "mimetype": "text/x-python",
   "name": "python",
   "nbconvert_exporter": "python",
   "pygments_lexer": "ipython3",
   "version": "3.7.3"
  }
 },
 "nbformat": 4,
 "nbformat_minor": 5
}
